{
 "cells": [
  {
   "cell_type": "code",
   "execution_count": 24,
   "metadata": {},
   "outputs": [],
   "source": [
    "import numpy as np\n",
    "import matplotlib.pyplot as plt\n",
    "import scipy.linalg\n",
    "import pandas as pd\n",
    "import random\n",
    "import time\n",
    "import csv\n",
    "from datetime import datetime\n",
    "import pytz\n",
    "tz = pytz.timezone('Europe/Berlin')\n",
    "import seaborn as sns\n",
    "import platform"
   ]
  },
  {
   "cell_type": "code",
   "execution_count": 25,
   "metadata": {},
   "outputs": [],
   "source": [
    "x = np.asarray([1, 2, 1, 2, 1.5])\n",
    "y = np.asarray([1, 1, 2, 2, 1.5])\n",
    "z = np.asarray([10, 15, -2, 2, 0])"
   ]
  },
  {
   "cell_type": "code",
   "execution_count": 26,
   "metadata": {},
   "outputs": [],
   "source": [
    "gridrez = 5"
   ]
  },
  {
   "cell_type": "code",
   "execution_count": 27,
   "metadata": {},
   "outputs": [],
   "source": [
    "def create_ranges(start, stop, N, endpoint=True):\n",
    "    if endpoint==1:\n",
    "        divisor = N-1\n",
    "    else:\n",
    "        divisor = N\n",
    "    steps = (1.0/divisor) * (stop - start)\n",
    "    return steps[:,None]*np.arange(N) + start[:,None]\n",
    "\n",
    "def linspace_nd(x,y,gridrez):\n",
    "    a1 = create_ranges(x.min(axis=1), x.max(axis=1), N=gridrez, endpoint=True)\n",
    "    a2 = create_ranges(y.min(axis=1), y.max(axis=1), N=gridrez, endpoint=True)\n",
    "    out_shp = a1.shape + (a2.shape[1],)\n",
    "    Xout = np.broadcast_to(a1[:,None,:], out_shp)\n",
    "    Yout = np.broadcast_to(a2[:,:,None], out_shp)\n",
    "    return Xout, Yout\n",
    "\n",
    "def stacked_lstsq(L, b, rcond=1e-10):\n",
    "    \"\"\"\n",
    "    Solve L x = b, via SVD least squares cutting of small singular values\n",
    "    L is an array of shape (..., M, N) and b of shape (..., M).\n",
    "    Returns x of shape (..., N)\n",
    "    \"\"\"\n",
    "    u, s, v = np.linalg.svd(L, full_matrices=False)\n",
    "    s_max = s.max(axis=-1, keepdims=True)\n",
    "    s_min = rcond*s_max\n",
    "    inv_s = np.zeros_like(s)\n",
    "    inv_s[s >= s_min] = 1/s[s>=s_min]\n",
    "    x = np.einsum('...ji,...j->...i', v,\n",
    "                  inv_s * np.einsum('...ji,...j->...i', u, b.conj()))\n",
    "    return np.conj(x, x)\n",
    "\n",
    "def vectorized_bi2Dlinter(x_vals, y_vals, z_vals, gridrez):\n",
    "\n",
    "    X,Y = linspace_nd(x_vals, y_vals, gridrez)\n",
    "    A = np.stack((x_vals,y_vals,np.ones_like(z_vals)), axis=2)\n",
    "    C = stacked_lstsq(A, z_vals)\n",
    "    n_bcast = C.shape[0]\n",
    "    return C.T[0].reshape((n_bcast,1,1))*X + C.T[1].reshape((n_bcast,1,1))*Y + C.T[2].reshape((n_bcast,1,1))"
   ]
  },
  {
   "cell_type": "code",
   "execution_count": 28,
   "metadata": {},
   "outputs": [],
   "source": [
    "results =  []\n",
    "\n",
    "for i in range(6):\n",
    "    for jj in range(100):\n",
    "        laenge = 10**i\n",
    "\n",
    "        x1loc = 1.0\n",
    "        x2loc = 2.0\n",
    "        x3loc = 1.0\n",
    "        x4loc = 2.0\n",
    "        x5loc = 1.5\n",
    "\n",
    "        y1loc = 1.0\n",
    "        y2loc = 1.0\n",
    "        y3loc = 2.0\n",
    "        y4loc = 2.0\n",
    "        y5loc = 1.5\n",
    "        \n",
    "        \n",
    "        xxx = x1loc+np.random.rand(laenge)\n",
    "        \n",
    "        df2 = pd.DataFrame({\"x1\":xxx,\n",
    "                            \"x2\":x2loc+np.random.rand(laenge),\n",
    "                            \"x3\":x3loc+np.random.rand(laenge),\n",
    "                            \"x4\":x4loc+np.random.rand(laenge),\n",
    "                            \"x5\":x5loc+np.random.rand(laenge),\n",
    "                            \"y1\":y1loc+np.random.rand(laenge),\n",
    "                            \"y2\":y2loc+np.random.rand(laenge),\n",
    "                            \"y3\":y3loc+np.random.rand(laenge),\n",
    "                            \"y4\":y4loc+np.random.rand(laenge),\n",
    "                            \"y5\":y5loc+np.random.rand(laenge),\n",
    "                            \"z1\":np.random.rand(laenge),\n",
    "                            \"z2\":np.random.rand(laenge),\n",
    "                            \"z3\":np.random.rand(laenge),\n",
    "                            \"z4\":np.random.rand(laenge),\n",
    "                            \"z5\":np.random.rand(laenge),\n",
    "                           })\n",
    "\n",
    "        ZZ = []\n",
    "\n",
    "        start2 = time.time()\n",
    "        x_vals = df2[['x1','x2','x3','x4','x5']].values\n",
    "        y_vals = df2[['y1','y2','y3','y4','y5']].values\n",
    "        z_vals = df2[['z1','z2','z3','z4','z5']].values\n",
    "\n",
    "        res = vectorized_bi2Dlinter(x_vals,y_vals,z_vals,gridrez)\n",
    "        YY = np.mean(np.mean(res, axis=2),axis=1).tolist()\n",
    "        df2['ZZv']=YY\n",
    "        end2 = time.time()\n",
    "\n",
    "        results.append([laenge, end2-start2])"
   ]
  },
  {
   "cell_type": "code",
   "execution_count": 29,
   "metadata": {},
   "outputs": [],
   "source": [
    "npresults = np.asarray(results)\n",
    "\n",
    "df = pd.DataFrame(np.asarray(results))\n",
    "df.columns = ['NumberOfRows', 'execution time']\n",
    "df['NumberOfRows']  = np.int32(df['NumberOfRows'].values)\n",
    "df['log(duration)'] = np.log((df['execution time'].values).astype('float'))"
   ]
  },
  {
   "cell_type": "code",
   "execution_count": 30,
   "metadata": {},
   "outputs": [
    {
     "data": {
      "text/plain": [
       "[Text(0.5, 0, 'Number of Rows in DataFrame')]"
      ]
     },
     "execution_count": 30,
     "metadata": {},
     "output_type": "execute_result"
    },
    {
     "data": {
      "image/png": "[encoded data removed]",
      "text/plain": [
       "<Figure size 1080x360 with 2 Axes>"
      ]
     },
     "metadata": {
      "needs_background": "light"
     },
     "output_type": "display_data"
    }
   ],
   "source": [
    "fig = plt.figure()\n",
    "fig.set_figheight(5)\n",
    "fig.set_figwidth(15)\n",
    "\n",
    "ax1 = fig.add_subplot(1, 2, 1)\n",
    "ax2 = fig.add_subplot(1, 2, 2)\n",
    "\n",
    "ax1x = list(set(npresults[:,0]))\n",
    "ax1y = [np.mean(npresults[npresults[:,0]==case, 1]) for case in set(npresults[:,0])]\n",
    "\n",
    "ax1x, ax1y = zip(*sorted(zip(ax1x, ax1y)))\n",
    "\n",
    "ax1.plot(ax1x,ax1y, color='red', marker='o', label=\"vectorized\",    markerfacecolor='white', markeredgewidth=2, markeredgecolor='red', markersize=8,  linewidth=2)\n",
    "ax1.set_xscale('log')\n",
    "ax1.set_yscale('log')\n",
    "ax1.set_xlabel('Number of rows in Dataframe')\n",
    "ax1.set_ylabel('Duration in s')\n",
    "\n",
    "sns.swarmplot(x='NumberOfRows',y='execution time', data=df, ax=ax2)\n",
    "ax2.set_yscale(\"log\") # log first\n",
    "ax2.set_ylabel('')\n",
    "ax2.set(xlabel='Number of Rows in DataFrame')"
   ]
  },
  {
   "cell_type": "code",
   "execution_count": 23,
   "metadata": {},
   "outputs": [],
   "source": [
    "with open('results_'+platform.machine()+'laptop'+(datetime.now(tz)).strftime(\"%Y%m%d-%H%M%S\")+'.csv', 'w', newline='') as csvFile:\n",
    "    writer = csv.writer(csvFile)\n",
    "    writer.writerow([\"dfRowCount\", \"execution time\"])\n",
    "    writer.writerows(results)\n",
    "\n",
    "csvFile.close()"
   ]
  }
 ],
 "metadata": {
  "kernelspec": {
   "display_name": "Python 3",
   "language": "python",
   "name": "python3"
  },
  "language_info": {
   "codemirror_mode": {
    "name": "ipython",
    "version": 3
   },
   "file_extension": ".py",
   "mimetype": "text/x-python",
   "name": "python",
   "nbconvert_exporter": "python",
   "pygments_lexer": "ipython3",
   "version": "3.6.8"
  }
 },
 "nbformat": 4,
 "nbformat_minor": 2
}
